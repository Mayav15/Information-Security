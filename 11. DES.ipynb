{
 "cells": [
  {
   "cell_type": "code",
   "execution_count": 1,
   "id": "7d7376d3",
   "metadata": {},
   "outputs": [
    {
     "name": "stdout",
     "output_type": "stream",
     "text": [
      "Collecting des\n",
      "  Downloading des-1.0.6.tar.gz (6.3 kB)\n",
      "Building wheels for collected packages: des\n",
      "  Building wheel for des (setup.py): started\n",
      "  Building wheel for des (setup.py): finished with status 'done'\n",
      "  Created wheel for des: filename=des-1.0.6-py3-none-any.whl size=7342 sha256=1692af8401b445e230354f52d50822ed954c219cb8702b8623b6ff5b10cff86d\n",
      "  Stored in directory: c:\\users\\user\\appdata\\local\\pip\\cache\\wheels\\c7\\3f\\79\\f36910f5fffc6e4d27b5a6cbe5b0d534627b75e008eeb4e4fc\n",
      "Successfully built des\n",
      "Installing collected packages: des\n",
      "Successfully installed des-1.0.6\n"
     ]
    }
   ],
   "source": [
    "!pip install des"
   ]
  },
  {
   "cell_type": "code",
   "execution_count": 4,
   "id": "cae3e453",
   "metadata": {},
   "outputs": [
    {
     "name": "stdout",
     "output_type": "stream",
     "text": [
      "Plain Text  : MY NAME IS ARYAN\n",
      "Key : Sixteen byte key\n",
      "Cipher Text: b'\\xa8\\x07e\\xce\\xfd\\xcbN\\xd5\\x1e\\x93c/\\x07\\xa0b\\xb6'\n",
      "Plain Text from Cipher Text: MY NAME IS ARYAN\n"
     ]
    }
   ],
   "source": [
    "from des import DesKey\n",
    "\n",
    "def encrypt(plain_text, key):\n",
    "    key = str(key).encode(\"utf-8\")\n",
    "    cipher = DesKey(key)\n",
    "    plain_text = str(plain_text).encode(\"utf-8\")\n",
    "    cipher_text = cipher.encrypt(plain_text)\n",
    "    return cipher_text\n",
    "\n",
    "def decrypt(cipher_text, key):\n",
    "    key = str(key).encode(\"utf-8\")\n",
    "    cipher = DesKey(key)\n",
    "    plain_text = cipher.decrypt(cipher_text)\n",
    "    return plain_text.decode(\"utf-8\")\n",
    "\n",
    "plain_text = \"MY NAME IS ARYAN\"\n",
    "key = 'Sixteen byte key'\n",
    "cipher_text = encrypt(plain_text,key)\n",
    "plain_text_2 = decrypt(cipher_text,key)\n",
    "\n",
    "print (\"Plain Text  : \" + plain_text)\n",
    "print (\"Key : \" + str(key))\n",
    "print (\"Cipher Text: \" + str(cipher_text))\n",
    "print (\"Plain Text from Cipher Text: \" + plain_text_2)"
   ]
  }
 ],
 "metadata": {
  "kernelspec": {
   "display_name": "Python 3",
   "language": "python",
   "name": "python3"
  },
  "language_info": {
   "codemirror_mode": {
    "name": "ipython",
    "version": 3
   },
   "file_extension": ".py",
   "mimetype": "text/x-python",
   "name": "python",
   "nbconvert_exporter": "python",
   "pygments_lexer": "ipython3",
   "version": "3.8.8"
  }
 },
 "nbformat": 4,
 "nbformat_minor": 5
}
