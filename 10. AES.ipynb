{
 "cells": [
  {
   "cell_type": "code",
   "execution_count": 1,
   "id": "a32e0004",
   "metadata": {},
   "outputs": [
    {
     "name": "stdout",
     "output_type": "stream",
     "text": [
      "Requirement already satisfied: pycryptodomex in c:\\users\\user\\anaconda3\\lib\\site-packages (3.14.1)\n"
     ]
    }
   ],
   "source": [
    "!pip install pycryptodomex"
   ]
  },
  {
   "cell_type": "code",
   "execution_count": 2,
   "id": "b6c8cf48",
   "metadata": {},
   "outputs": [
    {
     "name": "stdout",
     "output_type": "stream",
     "text": [
      "Plain Text  : MY NAME IS ARYAN\n",
      "Key : Sixteen byte key\n",
      "Cipher Text: b'\\x88\\x98\\xe0\\xd9\\xaa\\x97\\xfd/\\x95\\xeb\\xe6\\xb2\\x1ezm5'\n",
      "Plain Text from Cipher Text: MY NAME IS ARYAN\n"
     ]
    }
   ],
   "source": [
    "from Cryptodome.Cipher import AES\n",
    "\n",
    "def encrypt(plain_text, key):\n",
    "    key = str(key).encode(\"utf-8\")\n",
    "    cipher = AES.new(key, AES.MODE_EAX)\n",
    "    plain_text = str(plain_text).encode(\"utf-8\")\n",
    "    cipher_text, tag = cipher.encrypt_and_digest(plain_text)\n",
    "    return cipher_text, cipher.nonce\n",
    "\n",
    "def decrypt(cipher_text, key, nonce):\n",
    "    key = str(key).encode(\"utf-8\")\n",
    "    cipher = AES.new(key, AES.MODE_EAX, nonce = nonce)\n",
    "    plain_text = cipher.decrypt(cipher_text)\n",
    "    return plain_text.decode(\"utf-8\")\n",
    "\n",
    "plain_text = \"MY NAME IS ARYAN\"\n",
    "key = 'Sixteen byte key'\n",
    "cipher_text, nonce = encrypt(plain_text,key)\n",
    "plain_text_2 = decrypt(cipher_text,key,nonce)\n",
    "\n",
    "print (\"Plain Text  : \" + plain_text)\n",
    "print (\"Key : \" + str(key))\n",
    "print (\"Cipher Text: \" + str(cipher_text))\n",
    "print (\"Plain Text from Cipher Text: \" + plain_text_2)"
   ]
  }
 ],
 "metadata": {
  "kernelspec": {
   "display_name": "Python 3",
   "language": "python",
   "name": "python3"
  },
  "language_info": {
   "codemirror_mode": {
    "name": "ipython",
    "version": 3
   },
   "file_extension": ".py",
   "mimetype": "text/x-python",
   "name": "python",
   "nbconvert_exporter": "python",
   "pygments_lexer": "ipython3",
   "version": "3.8.8"
  }
 },
 "nbformat": 4,
 "nbformat_minor": 5
}
