{
 "cells": [
  {
   "cell_type": "markdown",
   "id": "855ffdcf",
   "metadata": {},
   "source": [
    "# SHA Hashing"
   ]
  },
  {
   "cell_type": "markdown",
   "id": "eba5cec4",
   "metadata": {},
   "source": [
    "The different SHA hash functions are explained below:\n",
    "\n",
    "SHA256 : This hash function belong to hash class SHA-2, the internal block size of it is 32 bits.\n",
    "\n",
    "SHA384 : This hash function belong to hash class SHA-2, the internal block size of it is 32 bits. This is one of the truncated version.\n",
    "\n",
    "SHA224 : This hash function belong to hash class SHA-2, the internal block size of it is 32 bits. This is one of the truncated version.\n",
    "\n",
    "SHA512 : This hash function belong to hash class SHA-2, the internal block size of it is 64 bits.\n",
    "\n",
    "SHA1 : The 160 bit hash function that resembles MD5 hash in working and was discontinued to be used seeing its security vulnerabilities."
   ]
  },
  {
   "cell_type": "markdown",
   "id": "ea9806f9",
   "metadata": {},
   "source": [
    "## SHA256"
   ]
  },
  {
   "cell_type": "code",
   "execution_count": 1,
   "id": "cb801a85",
   "metadata": {},
   "outputs": [
    {
     "name": "stdout",
     "output_type": "stream",
     "text": [
      "The byte equivalent of hash is :  b'[Pi5\\xb0\\x8b\\x1b\\xb5\\xe9\\xb1\\xef4\\x8cs\\xbe\\xe2\\x1fr\\x1a\\xe6VVZ-m\\xcd\\x12U\\x85\\xd5\\xa0('\n",
      "The hex equivalent of hash is :  5b506935b08b1bb5e9b1ef348c73bee21f721ae656565a2d6dcd125585d5a028\n"
     ]
    }
   ],
   "source": [
    "import hashlib\n",
    "\n",
    "plain_text = 'MY NAME IS ARYAN'\n",
    "result = hashlib.sha256(plain_text.encode('utf-8'))\n",
    "\n",
    "print(\"The byte equivalent of hash is : \",result.digest())\n",
    "print(\"The hex equivalent of hash is : \",result.hexdigest())"
   ]
  },
  {
   "cell_type": "markdown",
   "id": "9ff3a627",
   "metadata": {},
   "source": [
    "## SHA384"
   ]
  },
  {
   "cell_type": "code",
   "execution_count": 2,
   "id": "c3bc7ae3",
   "metadata": {},
   "outputs": [
    {
     "name": "stdout",
     "output_type": "stream",
     "text": [
      "The byte equivalent of hash is :  b'\\x1d\\xaf\\x19|P\\x8b\\xccI\\xa74\\xf3\\x14\\x17\\xb07\\xf7m\\x1f\\xd1\\xc5\\x90>\\xfbY\\x93\\xf5\\x19\\xd8}\\x8b^|4F\\x8d\\x9e/\\x1e\\xb30nJLx\\x02lr\\xad'\n",
      "The hex equivalent of hash is :  1daf197c508bcc49a734f31417b037f76d1fd1c5903efb5993f519d87d8b5e7c34468d9e2f1eb3306e4a4c78026c72ad\n"
     ]
    }
   ],
   "source": [
    "import hashlib\n",
    "\n",
    "plain_text = 'MY NAME IS ARYAN'\n",
    "result = hashlib.sha384(plain_text.encode('utf-8'))\n",
    "\n",
    "print(\"The byte equivalent of hash is : \",result.digest())\n",
    "print(\"The hex equivalent of hash is : \",result.hexdigest())"
   ]
  },
  {
   "cell_type": "markdown",
   "id": "c6795281",
   "metadata": {},
   "source": [
    "## SHA224"
   ]
  },
  {
   "cell_type": "code",
   "execution_count": 3,
   "id": "11112fe1",
   "metadata": {},
   "outputs": [
    {
     "name": "stdout",
     "output_type": "stream",
     "text": [
      "The byte equivalent of hash is :  b'\\x08\\xda\\xa3h\\x17\\x1b\\xf1C]\\xd6\\x9ak^H\\xa4dF<\\x88\\xc7\\xe2\\x03u\\x9a\\x96\\xd0\\xff\\\\'\n",
      "The hex equivalent of hash is :  08daa368171bf1435dd69a6b5e48a464463c88c7e203759a96d0ff5c\n"
     ]
    }
   ],
   "source": [
    "import hashlib\n",
    "\n",
    "plain_text = 'MY NAME IS ARYAN'\n",
    "result = hashlib.sha224(plain_text.encode('utf-8'))\n",
    "\n",
    "print(\"The byte equivalent of hash is : \",result.digest())\n",
    "print(\"The hex equivalent of hash is : \",result.hexdigest())"
   ]
  },
  {
   "cell_type": "markdown",
   "id": "5e4f8296",
   "metadata": {},
   "source": [
    "## SHA512"
   ]
  },
  {
   "cell_type": "code",
   "execution_count": 4,
   "id": "6f6c41b5",
   "metadata": {},
   "outputs": [
    {
     "name": "stdout",
     "output_type": "stream",
     "text": [
      "The byte equivalent of hash is :  b'\\xf6\\xe1\\x08\\xd04I\\xf6\\xf8\\xb1\\xf4i*h\\xd2\\xb2\\x85Z\\x86\\xec\\xaeC\\xe3!\\xbd\\xcd\\x87\\x99_`\\xf1^b6\\xe2N%\\\\\\xf9k\\xa7\\xcb\\x85\\xd9\\x1d\\xea\\xe4\\x17WcK?\\x9d\\xf2\\xbb\\x12\\xe7^\\x9c\\x10\\x0f$\\xfc\\x02Z'\n",
      "The hex equivalent of hash is :  f6e108d03449f6f8b1f4692a68d2b2855a86ecae43e321bdcd87995f60f15e6236e24e255cf96ba7cb85d91deae41757634b3f9df2bb12e75e9c100f24fc025a\n"
     ]
    }
   ],
   "source": [
    "import hashlib\n",
    "\n",
    "plain_text = 'MY NAME IS ARYAN'\n",
    "result = hashlib.sha512(plain_text.encode('utf-8'))\n",
    "\n",
    "print(\"The byte equivalent of hash is : \",result.digest())\n",
    "print(\"The hex equivalent of hash is : \",result.hexdigest())"
   ]
  },
  {
   "cell_type": "markdown",
   "id": "009df649",
   "metadata": {},
   "source": [
    "## SHA1"
   ]
  },
  {
   "cell_type": "code",
   "execution_count": 5,
   "id": "363e62f6",
   "metadata": {},
   "outputs": [
    {
     "name": "stdout",
     "output_type": "stream",
     "text": [
      "The byte equivalent of hash is :  b'*\\x00A\\x9b\\xb1q\\x9e\\xcf@]\\xe7\\x92\\x8a\\x92\\xaeRL\\x9c\\xcdn'\n",
      "The hex equivalent of hash is :  2a00419bb1719ecf405de7928a92ae524c9ccd6e\n"
     ]
    }
   ],
   "source": [
    "import hashlib\n",
    "\n",
    "plain_text = 'MY NAME IS ARYAN'\n",
    "result = hashlib.sha1(plain_text.encode('utf-8'))\n",
    "\n",
    "print(\"The byte equivalent of hash is : \",result.digest())\n",
    "print(\"The hex equivalent of hash is : \",result.hexdigest())"
   ]
  }
 ],
 "metadata": {
  "kernelspec": {
   "display_name": "Python 3",
   "language": "python",
   "name": "python3"
  },
  "language_info": {
   "codemirror_mode": {
    "name": "ipython",
    "version": 3
   },
   "file_extension": ".py",
   "mimetype": "text/x-python",
   "name": "python",
   "nbconvert_exporter": "python",
   "pygments_lexer": "ipython3",
   "version": "3.8.8"
  }
 },
 "nbformat": 4,
 "nbformat_minor": 5
}
