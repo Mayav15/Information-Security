{
 "cells": [
  {
   "cell_type": "code",
   "execution_count": 1,
   "id": "cb801a85",
   "metadata": {},
   "outputs": [
    {
     "name": "stdout",
     "output_type": "stream",
     "text": [
      "The byte equivalent of hash is :  b'\\x12x*\\x95\\x8c&\\x98.u\\x8f\\x18\\xb0\\xf5p\\xc8\\xb0'\n",
      "The hex equivalent of hash is :  12782a958c26982e758f18b0f570c8b0\n"
     ]
    }
   ],
   "source": [
    "import hashlib\n",
    "\n",
    "plain_text = 'MY NAME IS ARYAN'\n",
    "result = hashlib.md5(plain_text.encode('utf-8'))\n",
    "\n",
    "print(\"The byte equivalent of hash is : \",result.digest())\n",
    "print(\"The hex equivalent of hash is : \",result.hexdigest())"
   ]
  }
 ],
 "metadata": {
  "kernelspec": {
   "display_name": "Python 3",
   "language": "python",
   "name": "python3"
  },
  "language_info": {
   "codemirror_mode": {
    "name": "ipython",
    "version": 3
   },
   "file_extension": ".py",
   "mimetype": "text/x-python",
   "name": "python",
   "nbconvert_exporter": "python",
   "pygments_lexer": "ipython3",
   "version": "3.8.8"
  }
 },
 "nbformat": 4,
 "nbformat_minor": 5
}
